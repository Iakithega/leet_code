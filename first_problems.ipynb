{
 "cells": [
  {
   "cell_type": "code",
   "execution_count": 1,
   "metadata": {},
   "outputs": [],
   "source": [
    "from typing import List\n"
   ]
  },
  {
   "cell_type": "code",
   "execution_count": null,
   "metadata": {},
   "outputs": [],
   "source": []
  },
  {
   "cell_type": "markdown",
   "metadata": {},
   "source": [
    "## Two sums\n",
    "\n",
    "Given an array of integers nums and an integer target, return indices of the two numbers such that they add up to target.\n",
    "\n",
    "You may assume that each input would have exactly one solution, and you may not use the same element twice.\n",
    "\n",
    "You can return the answer in any order.\n",
    "\n",
    " \n",
    "\n",
    "Example 1:\n",
    "\n",
    "Input: nums = [2,7,11,15], target = 9\n",
    "Output: [0,1]\n",
    "Explanation: Because nums[0] + nums[1] == 9, we return [0, 1].\n",
    "Example 2:\n",
    "\n",
    "Input: nums = [3,2,4], target = 6\n",
    "Output: [1,2]\n",
    "Example 3:\n",
    "\n",
    "Input: nums = [3,3], target = 6\n",
    "Output: [0,1]"
   ]
  },
  {
   "cell_type": "markdown",
   "metadata": {},
   "source": []
  },
  {
   "cell_type": "markdown",
   "metadata": {},
   "source": [
    "#### First attemt on whiteboard"
   ]
  },
  {
   "cell_type": "code",
   "execution_count": 66,
   "metadata": {},
   "outputs": [],
   "source": [
    "def two_sums(nums: List[int], target: int) -> List[int]:\n",
    "\n",
    "    target_indicies_list = []\n",
    "\n",
    "    for n in range(len(nums)):\n",
    "        for i in range(len(nums)):\n",
    "            if n != i:\n",
    "                print(n, i)\n",
    "                if nums[n] + nums[i] == target:\n",
    "                    target_indicies_list.append(n)\n",
    "                    target_indicies_list.append(i)\n",
    "                    return target_indicies_list\n",
    "        # for i, num in enumerate(nums):\n",
    "        #     if n != i:\n",
    "        #         print(n, i)\n",
    "        #         if nums[n] + nums[i] == target:\n",
    "        #             # print(n)\n",
    "        #             # print(i)\n",
    "        #             target_indicies_list.append(n)\n",
    "        #             target_indicies_list.append(i)\n",
    "    \n",
    "    print(target_indicies_list)\n",
    "\n",
    "    \n",
    "    \n",
    "\n"
   ]
  },
  {
   "cell_type": "code",
   "execution_count": 68,
   "metadata": {},
   "outputs": [
    {
     "name": "stdout",
     "output_type": "stream",
     "text": [
      "0 1\n",
      "0 2\n",
      "0 3\n",
      "1 0\n",
      "1 2\n"
     ]
    },
    {
     "data": {
      "text/plain": [
       "[1, 2]"
      ]
     },
     "execution_count": 68,
     "metadata": {},
     "output_type": "execute_result"
    }
   ],
   "source": [
    "two_sums([1,2,4,3], 6)"
   ]
  },
  {
   "cell_type": "code",
   "execution_count": null,
   "metadata": {},
   "outputs": [],
   "source": [
    "class Solution(object):\n",
    "    def twoSum(self, nums, target):\n",
    "        target_indicies_list = []\n",
    "\n",
    "        for n in range(len(nums)):\n",
    "            for i in range(len(nums)):\n",
    "                if n != i:\n",
    "                    if nums[n] + nums[i] == target:\n",
    "                        target_indicies_list.append(n)\n",
    "                        target_indicies_list.append(i)\n",
    "\n",
    "                        return target_indicies_list"
   ]
  }
 ],
 "metadata": {
  "kernelspec": {
   "display_name": "blt_tst",
   "language": "python",
   "name": "python3"
  },
  "language_info": {
   "codemirror_mode": {
    "name": "ipython",
    "version": 3
   },
   "file_extension": ".py",
   "mimetype": "text/x-python",
   "name": "python",
   "nbconvert_exporter": "python",
   "pygments_lexer": "ipython3",
   "version": "3.12.3"
  }
 },
 "nbformat": 4,
 "nbformat_minor": 2
}
