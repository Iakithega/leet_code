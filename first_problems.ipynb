{
 "cells": [
  {
   "cell_type": "code",
   "execution_count": 50,
   "metadata": {},
   "outputs": [],
   "source": [
    "from typing import List, Dict\n",
    "import random\n",
    "import numpy as np\n",
    "import pprint"
   ]
  },
  {
   "cell_type": "code",
   "execution_count": null,
   "metadata": {},
   "outputs": [],
   "source": []
  },
  {
   "cell_type": "markdown",
   "metadata": {},
   "source": [
    "## Two sums\n",
    "\n",
    "Given an array of integers nums and an integer target, return indices of the two numbers such that they add up to target.\n",
    "\n",
    "You may assume that each input would have exactly one solution, and you may not use the same element twice.\n",
    "\n",
    "You can return the answer in any order.\n",
    "\n",
    " \n",
    "\n",
    "Example 1:\n",
    "\n",
    "Input: nums = [2,7,11,15], target = 9\n",
    "Output: [0,1]\n",
    "Explanation: Because nums[0] + nums[1] == 9, we return [0, 1].\n",
    "Example 2:\n",
    "\n",
    "Input: nums = [3,2,4], target = 6\n",
    "Output: [1,2]\n",
    "Example 3:\n",
    "\n",
    "Input: nums = [3,3], target = 6\n",
    "Output: [0,1]"
   ]
  },
  {
   "cell_type": "markdown",
   "metadata": {},
   "source": []
  },
  {
   "cell_type": "markdown",
   "metadata": {},
   "source": [
    "#### First attemt on whiteboard"
   ]
  },
  {
   "cell_type": "code",
   "execution_count": 61,
   "metadata": {},
   "outputs": [],
   "source": [
    "def two_sums(nums: List[int], target: int) -> List[int]:\n",
    "\n",
    "    target_indicies_list = []\n",
    "\n",
    "    for n in range(len(nums)):\n",
    "        for i in range(len(nums)):\n",
    "            if n != i:\n",
    "                print(n, i)\n",
    "                if nums[n] + nums[i] == target:\n",
    "                    target_indicies_list.append(n)\n",
    "                    target_indicies_list.append(i)\n",
    "                    return target_indicies_list\n",
    "        # for i, num in enumerate(nums):\n",
    "        #     if n != i:\n",
    "        #         print(n, i)\n",
    "        #         if nums[n] + nums[i] == target:\n",
    "        #             # print(n)\n",
    "        #             # print(i)\n",
    "        #             target_indicies_list.append(n)\n",
    "        #             target_indicies_list.append(i)\n",
    "    \n",
    "    pprint.pprint(target_indicies_list)\n",
    "\n",
    "    \n",
    "    \n",
    "\n"
   ]
  },
  {
   "cell_type": "code",
   "execution_count": 62,
   "metadata": {},
   "outputs": [
    {
     "name": "stdout",
     "output_type": "stream",
     "text": [
      "0 1\n",
      "0 2\n",
      "0 3\n",
      "1 0\n",
      "1 2\n"
     ]
    },
    {
     "data": {
      "text/plain": [
       "[1, 2]"
      ]
     },
     "execution_count": 62,
     "metadata": {},
     "output_type": "execute_result"
    }
   ],
   "source": [
    "two_sums([1,2,4,3], 6)"
   ]
  },
  {
   "cell_type": "code",
   "execution_count": 1,
   "metadata": {},
   "outputs": [],
   "source": [
    "class Solution(object):\n",
    "    def twoSum(self, nums, target):\n",
    "        target_indicies_list = []\n",
    "\n",
    "        for n in range(len(nums)):\n",
    "            for i in range(len(nums)):\n",
    "                if n != i:\n",
    "                    if nums[n] + nums[i] == target:\n",
    "                        target_indicies_list.append(n)\n",
    "                        target_indicies_list.append(i)\n",
    "\n",
    "                        return target_indicies_list"
   ]
  },
  {
   "cell_type": "code",
   "execution_count": 16,
   "metadata": {},
   "outputs": [],
   "source": [
    "def make_rand_list(list_length: int = 100, list_range: int = 10) -> List[int]:\n",
    "    rand_list = []\n",
    "    for _ in range(list_length):\n",
    "        rand_list.append(random.randint(0, list_range))\n",
    "    \n",
    "    return rand_list\n"
   ]
  },
  {
   "cell_type": "code",
   "execution_count": 66,
   "metadata": {},
   "outputs": [],
   "source": [
    "def make_rand_list(list_length: int = 100, list_range: int = 100) -> List[int]:\n",
    "    rand_list = []\n",
    "    for _ in range(list_length):\n",
    "        rand_list.append(random.randint(0, list_range))\n",
    "    \n",
    "    return rand_list\n",
    "\n",
    "def count_rand_nums(list_length: int = 100, list_range: int = 100) -> Dict[int, int]:\n",
    "    rand_list = make_rand_list(list_length, list_range)\n",
    "    count_dict = {}\n",
    "\n",
    "    for num in rand_list:\n",
    "        if num not in count_dict:\n",
    "            count_dict[num] = 1\n",
    "        else: count_dict[num] += 1\n",
    "    return dict(sorted(count_dict.items()))\n",
    "\n",
    "\n",
    "\n",
    "# def count_rand_nums(list_length: int = 100, list_range: int = 100) -> Dict[int, int]:\n",
    "#     rand_list = make_rand_list(list_length, list_range)\n",
    "#     count_dict = {}\n",
    "\n",
    "#     for num in rand_list:\n",
    "#         if num in count_dict:\n",
    "#             count_dict[num] += 1\n",
    "#         else: count_dict[num] = 1\n",
    "#     return dict(sorted(count_dict.items()))\n",
    "\n"
   ]
  },
  {
   "cell_type": "code",
   "execution_count": 68,
   "metadata": {},
   "outputs": [
    {
     "name": "stdout",
     "output_type": "stream",
     "text": [
      "{0: 1, 1: 1, 2: 2, 3: 3, 5: 1, 6: 1, 7: 3, 10: 1, 14: 1, 15: 4, 16: 1, 17: 1, 19: 2, 20: 1, 21: 2, 22: 3, 24: 1, 25: 1, 26: 1, 27: 1, 31: 1, 32: 3, 33: 3, 35: 1, 36: 1, 37: 4, 38: 2, 40: 2, 42: 1, 43: 1, 44: 2, 48: 1, 49: 3, 53: 2, 54: 1, 55: 1, 56: 1, 57: 1, 58: 1, 59: 1, 60: 1, 61: 2, 62: 1, 63: 1, 64: 1, 68: 3, 71: 2, 73: 1, 74: 1, 75: 3, 76: 2, 77: 1, 78: 1, 80: 3, 81: 3, 82: 1, 88: 1, 90: 1, 91: 1, 94: 1, 96: 1, 97: 1, 99: 1, 100: 1}\n"
     ]
    }
   ],
   "source": [
    "erg = count_rand_nums()\n",
    "\n",
    "# pprint.pprint(erg)\n",
    "print(erg)"
   ]
  },
  {
   "cell_type": "code",
   "execution_count": 47,
   "metadata": {},
   "outputs": [],
   "source": [
    "def add_two(one: int, two: str):\n",
    "    result = one + two\n",
    "\n",
    "    return result\n"
   ]
  },
  {
   "cell_type": "code",
   "execution_count": 49,
   "metadata": {},
   "outputs": [
    {
     "ename": "TypeError",
     "evalue": "unsupported operand type(s) for +: 'int' and 'str'",
     "output_type": "error",
     "traceback": [
      "\u001b[1;31m---------------------------------------------------------------------------\u001b[0m",
      "\u001b[1;31mTypeError\u001b[0m                                 Traceback (most recent call last)",
      "\u001b[1;32m~\\AppData\\Local\\Temp/ipykernel_25364/200526265.py\u001b[0m in \u001b[0;36m<module>\u001b[1;34m\u001b[0m\n\u001b[1;32m----> 1\u001b[1;33m \u001b[0madd_two\u001b[0m\u001b[1;33m(\u001b[0m\u001b[1;36m1\u001b[0m\u001b[1;33m,\u001b[0m \u001b[1;34m\"sas\"\u001b[0m\u001b[1;33m)\u001b[0m\u001b[1;33m\u001b[0m\u001b[1;33m\u001b[0m\u001b[0m\n\u001b[0m",
      "\u001b[1;32m~\\AppData\\Local\\Temp/ipykernel_25364/597850010.py\u001b[0m in \u001b[0;36madd_two\u001b[1;34m(one, two)\u001b[0m\n\u001b[0;32m      1\u001b[0m \u001b[1;32mdef\u001b[0m \u001b[0madd_two\u001b[0m\u001b[1;33m(\u001b[0m\u001b[0mone\u001b[0m\u001b[1;33m:\u001b[0m \u001b[0mint\u001b[0m\u001b[1;33m,\u001b[0m \u001b[0mtwo\u001b[0m\u001b[1;33m:\u001b[0m \u001b[0mstr\u001b[0m\u001b[1;33m)\u001b[0m\u001b[1;33m:\u001b[0m\u001b[1;33m\u001b[0m\u001b[1;33m\u001b[0m\u001b[0m\n\u001b[1;32m----> 2\u001b[1;33m     \u001b[0mresult\u001b[0m \u001b[1;33m=\u001b[0m \u001b[0mone\u001b[0m \u001b[1;33m+\u001b[0m \u001b[0mtwo\u001b[0m\u001b[1;33m\u001b[0m\u001b[1;33m\u001b[0m\u001b[0m\n\u001b[0m\u001b[0;32m      3\u001b[0m \u001b[1;33m\u001b[0m\u001b[0m\n\u001b[0;32m      4\u001b[0m     \u001b[1;32mreturn\u001b[0m \u001b[0mresult\u001b[0m\u001b[1;33m\u001b[0m\u001b[1;33m\u001b[0m\u001b[0m\n",
      "\u001b[1;31mTypeError\u001b[0m: unsupported operand type(s) for +: 'int' and 'str'"
     ]
    }
   ],
   "source": [
    "add_two(1, \"sas\")"
   ]
  }
 ],
 "metadata": {
  "kernelspec": {
   "display_name": "ltef_venv",
   "language": "python",
   "name": "ltef_venv"
  },
  "language_info": {
   "codemirror_mode": {
    "name": "ipython",
    "version": 3
   },
   "file_extension": ".py",
   "mimetype": "text/x-python",
   "name": "python",
   "nbconvert_exporter": "python",
   "pygments_lexer": "ipython3",
   "version": "3.10.3"
  }
 },
 "nbformat": 4,
 "nbformat_minor": 2
}
